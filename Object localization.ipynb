{
  "nbformat": 4,
  "nbformat_minor": 0,
  "metadata": {
    "colab": {
      "provenance": []
    },
    "kernelspec": {
      "name": "python3",
      "display_name": "Python 3"
    },
    "language_info": {
      "name": "python"
    }
  },
  "cells": [
    {
      "cell_type": "code",
      "execution_count": 1,
      "metadata": {
        "id": "dayLcGJBpY-_"
      },
      "outputs": [],
      "source": [
        "import numpy as np\n",
        "\n",
        "from sklearn.model_selection import train_test_split\n",
        "\n",
        "import matplotlib.pyplot as plt\n",
        "import cv2\n",
        "import random\n",
        "import os\n",
        "\n",
        "from PIL  import Image\n",
        "\n",
        "import pandas as pd\n",
        "from xml.dom import minidom\n",
        "import csv"
      ]
    },
    {
      "cell_type": "code",
      "source": [
        "!unzip localization_dataset.zip\n"
      ],
      "metadata": {
        "colab": {
          "base_uri": "https://localhost:8080/"
        },
        "id": "JcWWjiUVI3p2",
        "outputId": "eaed0ed0-7372-479a-cdc6-88fb505471fb"
      },
      "execution_count": 6,
      "outputs": [
        {
          "output_type": "stream",
          "name": "stdout",
          "text": [
            "unzip:  cannot find or open localization_dataset.zip, localization_dataset.zip.zip or localization_dataset.zip.ZIP.\n"
          ]
        }
      ]
    },
    {
      "cell_type": "markdown",
      "source": [
        "*Reading the XML file*"
      ],
      "metadata": {
        "id": "0EVy70BM-xTs"
      }
    },
    {
      "cell_type": "code",
      "source": [
        "def extract_xml_contents(annot_directory, image_dir ):\n",
        "\n",
        "      file = minidom.parse(annot_directory)\n",
        "\n",
        "      # getting the ht and width of the image\n",
        "      height, width = cv2.imread(image_dir).shape[:2]\n",
        "\n",
        "      #getting the bounding the bounding box co-ordinates\n",
        "      xmin = file.getElementsByTagName('xmin')\n",
        "      x1 = float(xmin[0].firstChild.data)\n",
        "\n",
        "      ymin = file.getElementsByName('ymin')\n",
        "      y1 = float(ymin[0].firstChild.data)\n",
        "\n",
        "      xmax = file.getElementsByName('xmax')\n",
        "      x2 = float(xmax[0].firstChild.data)\n",
        "\n",
        "      ymax = file.getElementsByName('ymax')\n",
        "      y2 = float(ymax[0].firstChild.data)\n",
        "\n",
        "      class_name = file.getElementsByTagName('name')\n",
        "\n",
        "      if class_name[0].firstChild.data == \"cat\":\n",
        "         class_num = 0\n",
        "      else :\n",
        "        class_num = 1\n",
        "\n",
        "      files = file.getElementsByTagName('filename')\n",
        "      filename = files.firstChild.data\n",
        "\n",
        "      # returning the extracted attributes\n",
        "\n",
        "      return filename, width, height, class_num, x1, y1, x2, y2\n",
        "\n"
      ],
      "metadata": {
        "id": "7LWxvDbV-2Ka"
      },
      "execution_count": 4,
      "outputs": []
    },
    {
      "cell_type": "markdown",
      "source": [
        "Storing the XML file as csv, hence using a pandas dataframe for storing the data which we shall later save as a CSV."
      ],
      "metadata": {
        "id": "fa0eDlI4EZFw"
      }
    },
    {
      "cell_type": "code",
      "source": [
        "# Func to convert XML to CSV\n",
        "\n",
        "def xml_to_csv():\n",
        "\n",
        "  # list containing all our attributes regarding each image\n",
        "  xml_list = []\n",
        "\n",
        "  # we loop our"
      ],
      "metadata": {
        "id": "AZ7KXF8hC2tz"
      },
      "execution_count": 5,
      "outputs": []
    },
    {
      "cell_type": "code",
      "source": [],
      "metadata": {
        "id": "gAogNQeeI2p3"
      },
      "execution_count": null,
      "outputs": []
    },
    {
      "cell_type": "code",
      "source": [],
      "metadata": {
        "id": "ZL5vz5uwEvaU"
      },
      "execution_count": null,
      "outputs": []
    }
  ]
}